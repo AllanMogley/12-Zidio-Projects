{
 "cells": [
  {
   "cell_type": "code",
   "execution_count": 1,
   "metadata": {},
   "outputs": [],
   "source": [
    "path = '/mnt/e/03 - Codes/05 - Zidio Intership/12-Zidio-Projects/01 - Projects/02 - Speech Emotion Recognition/data'"
   ]
  },
  {
   "cell_type": "code",
   "execution_count": 3,
   "metadata": {},
   "outputs": [
    {
     "name": "stdout",
     "output_type": "stream",
     "text": [
      "/mnt/e/03 - Codes/05 - Zidio Intership/12-Zidio-Projects/01 - Projects/02 - Speech Emotion Recognition\n"
     ]
    }
   ],
   "source": [
    "!pwd"
   ]
  },
  {
   "cell_type": "code",
   "execution_count": 6,
   "metadata": {},
   "outputs": [
    {
     "name": "stdout",
     "output_type": "stream",
     "text": [
      "Dataset URL: https://www.kaggle.com/datasets/ejlok1/toronto-emotional-speech-set-tess\n",
      "License(s): Attribution-NonCommercial-NoDerivatives 4.0 International (CC BY-NC-ND 4.0)\n",
      "Downloading toronto-emotional-speech-set-tess.zip to data\n",
      "100%|█████████████████████████████████████████| 428M/428M [07:12<00:00, 821kB/s]\n",
      "100%|████████████████████████████████████████| 428M/428M [07:12<00:00, 1.04MB/s]\n"
     ]
    }
   ],
   "source": [
    "! kaggle datasets download -d ejlok1/toronto-emotional-speech-set-tess -p 'data/'\n",
    "# ! unzip toronto-emotional-speech-set-tess"
   ]
  },
  {
   "cell_type": "code",
   "execution_count": null,
   "metadata": {},
   "outputs": [],
   "source": [
    "import os\n",
    "import pandas as pd\n",
    "import numpy as np\n",
    "import seaborn as sns\n",
    "import matplotlib.pyplot as plt\n",
    "import librosa\n",
    "import librosa.display\n",
    "from IPython.display import Audio\n",
    "import warnings\n",
    "from keras import utils\n",
    "\n",
    "warnings.filterwarnings('ignore)"
   ]
  },
  {
   "cell_type": "code",
   "execution_count": null,
   "metadata": {},
   "outputs": [],
   "source": [
    "for dirname, _, filenames in os.walk(''):\n",
    "    for filename in filenames:\n",
    "        os.paths.append(os.path.join(dirname, filename))\n",
    "        label = filename.split('_')[-1]\n",
    "        label = label.split('.'[0])\n",
    "        os.labels.append(label.lower())\n",
    "    \n",
    "    if len(paths) == 2800:\n",
    "        break\n",
    "\n",
    "print('Dataset is loaded')"
   ]
  },
  {
   "cell_type": "code",
   "execution_count": null,
   "metadata": {},
   "outputs": [],
   "source": [
    "df = pd.DataFrame()\n",
    "df['speech'] = paths\n",
    "df['label'] = labels\n",
    "df.drop('label count', axis = 1)"
   ]
  },
  {
   "cell_type": "code",
   "execution_count": null,
   "metadata": {},
   "outputs": [],
   "source": [
    "sns.countplot(data = df, x = 'label')"
   ]
  }
 ],
 "metadata": {
  "kernelspec": {
   "display_name": "zidio",
   "language": "python",
   "name": "python3"
  },
  "language_info": {
   "codemirror_mode": {
    "name": "ipython",
    "version": 3
   },
   "file_extension": ".py",
   "mimetype": "text/x-python",
   "name": "python",
   "nbconvert_exporter": "python",
   "pygments_lexer": "ipython3",
   "version": "3.10.12"
  }
 },
 "nbformat": 4,
 "nbformat_minor": 2
}
