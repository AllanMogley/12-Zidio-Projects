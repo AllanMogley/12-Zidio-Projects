{
 "cells": [
  {
   "cell_type": "code",
   "execution_count": null,
   "metadata": {},
   "outputs": [],
   "source": [
    "# Import Libraries\n",
    "import pandas as pd\n",
    "# import numpy as np\n",
    "import seaborn as sns\n",
    "import matplotlib.pyplot as plt\n",
    "\n",
    "# Read data\n",
    "path = '01 - Data/ecom customer_data.xlsx'"
   ]
  },
  {
   "cell_type": "code",
   "execution_count": null,
   "metadata": {},
   "outputs": [],
   "source": [
    "# Read Data into a DataFrame\n",
    "df = pd.read_excel(path)"
   ]
  },
  {
   "cell_type": "code",
   "execution_count": null,
   "metadata": {},
   "outputs": [],
   "source": [
    "# ------------------------------------------------------------------\n",
    "# HANDLE NULLS IN THE GENDER COLUMN\n",
    "# ------------------------------------------------------------------\n",
    "\n",
    "# Fill NULLS in this new copy with new values\n",
    "df['Gender'] = df['Gender'].fillna('No Gender')\n",
    "\n",
    "# Check Unique Values in the Gender Column\n",
    "df['Gender'].unique()\n",
    "\n",
    "# Check for NULL Values\n",
    "# df.isnull().sum()"
   ]
  },
  {
   "cell_type": "code",
   "execution_count": null,
   "metadata": {},
   "outputs": [],
   "source": [
    "# ------------------------------------------------------------------\n",
    "# TRANSPOSE THE DF INTO MALE, FEMALE AS COLUMNS\n",
    "# ------------------------------------------------------------------\n",
    "\n",
    "df_t = df.copy()\n",
    "\n",
    "# Group the Data by the unique values in Gender Column\n",
    "df_t = df_t.groupby('Gender').sum().T\n",
    "df_t['MF'] = df_t['M'] + df_t['F']\n",
    "df_t = df_t[['MF', 'F', 'M']]\n",
    "df_t = df_t.sort_values(by = 'MF', ascending = False)\n",
    "\n",
    "df_t.head(10)\n",
    "df_t[1:6].plot.bar()"
   ]
  },
  {
   "cell_type": "code",
   "execution_count": null,
   "metadata": {},
   "outputs": [],
   "source": [
    "df_t.head(1)"
   ]
  },
  {
   "cell_type": "code",
   "execution_count": null,
   "metadata": {},
   "outputs": [],
   "source": [
    "df.head(1)"
   ]
  },
  {
   "cell_type": "code",
   "execution_count": null,
   "metadata": {},
   "outputs": [],
   "source": [
    "print('df', df.shape)\n",
    "print('df_t', df_t.shape)"
   ]
  }
 ],
 "metadata": {
  "kernelspec": {
   "display_name": "DSC",
   "language": "python",
   "name": "python3"
  },
  "language_info": {
   "codemirror_mode": {
    "name": "ipython",
    "version": 3
   },
   "file_extension": ".py",
   "mimetype": "text/x-python",
   "name": "python",
   "nbconvert_exporter": "python",
   "pygments_lexer": "ipython3",
   "version": "3.10.12"
  }
 },
 "nbformat": 4,
 "nbformat_minor": 2
}
