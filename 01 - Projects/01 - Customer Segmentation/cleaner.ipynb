{
 "cells": [
  {
   "cell_type": "code",
   "execution_count": null,
   "metadata": {},
   "outputs": [],
   "source": [
    "# Import Libraries\n",
    "import pandas as pd\n",
    "# import numpy as np\n",
    "import seaborn as sns\n",
    "import matplotlib.pyplot as plt\n",
    "from sklearn.preprocessing import OrdinalEncoder\n",
    "from sklearn.preprocessing import OneHotEncoder\n",
    "from sklearn.cluster import KMeans\n",
    "\n",
    "# Read data\n",
    "path = '01 - Data/ecom customer_data.xlsx'"
   ]
  },
  {
   "cell_type": "code",
   "execution_count": null,
   "metadata": {},
   "outputs": [],
   "source": [
    "# Read Data into a DataFrame\n",
    "df = pd.read_excel(path)"
   ]
  },
  {
   "cell_type": "code",
   "execution_count": null,
   "metadata": {},
   "outputs": [],
   "source": [
    "# ------------------------------------------------------------------\n",
    "# HANDLE NULLS IN THE GENDER COLUMN\n",
    "# ------------------------------------------------------------------\n",
    "\n",
    "# Fill NULLS in this new copy with new values\n",
    "df['Gender'] = df['Gender'].fillna('No Gender')\n",
    "\n",
    "# Check Unique Values in the Gender Column\n",
    "# df['Gender'].unique()"
   ]
  },
  {
   "cell_type": "code",
   "execution_count": null,
   "metadata": {},
   "outputs": [],
   "source": [
    "# ------------------------------------------------------------------\n",
    "# DATA TRANSFORMATIONS AND EXPLORATIONS\n",
    "# ------------------------------------------------------------------\n",
    "\n",
    "# Make a copy of the DF\n",
    "df_t = df.copy()\n",
    "\n",
    "# Group the Data by the unique values in Gender Column\n",
    "# Then Aggregate the result by the sum of each occurance\n",
    "df_t = df_t.groupby('Gender').sum()\n",
    "\n",
    "# Transpose the DF\n",
    "df_t = df_t.T\n",
    "\n",
    "# New column as a sum of Males and Females\n",
    "df_t['Males + Females'] = df_t['M'] + df_t['F']\n",
    "\n",
    "# Rename and Rearrange columns\n",
    "cols = {'F' : 'Females', 'M' : 'Males'}\n",
    "df_t.rename(columns = cols, inplace = True)\n",
    "df_t = df_t[['Males + Females', 'Females', 'Males', 'No Gender']]\n",
    "\n",
    "# Sort Values from Highest to Lowest\n",
    "df_t = df_t.sort_values(by = 'Males + Females', ascending = False)"
   ]
  },
  {
   "cell_type": "code",
   "execution_count": null,
   "metadata": {},
   "outputs": [],
   "source": [
    "# Plot the Top 5\n",
    "df_t[2:7].plot.bar()\n",
    "plt.title('Top 5 Comapnies')\n",
    "plt.ylabel('Sum Total')\n",
    "plt.xlabel('Comapny')\n",
    "\n",
    "# Plot the Bottom 5\n",
    "df_t[-5:].plot.bar()\n",
    "plt.title('Bottom 5 Comapnies')\n",
    "plt.ylabel('Sum Total')\n",
    "plt.xlabel('Compaty')"
   ]
  },
  {
   "cell_type": "markdown",
   "metadata": {},
   "source": [
    "From the Bar chart arranged from the Highest to Lowest, The top 5 comapnies with the leading Market share are:\n",
    " J.M. Smucker\n",
    " Juniper\n",
    " Burberry\n",
    " Scabal\n",
    " H&M\n",
    "\n",
    "the bottom 5 comapanies in terms of trailing market share are:\n",
    "  Hollister\n",
    "  Kraft\n",
    "  Forever 21\n",
    "  Siemens\n",
    "  IBM\n",
    "\n",
    "Females are the leading in orders followed by men and lastly those who did not disclose their gender."
   ]
  },
  {
   "cell_type": "code",
   "execution_count": null,
   "metadata": {},
   "outputs": [],
   "source": [
    "# ------------------------------------------------------------------\n",
    "# ENCODE CATEGORICAL VALUES IN THE GENDER COLUMN\n",
    "# ------------------------------------------------------------------\n",
    "\n",
    "df2 = df.copy()\n",
    "\n",
    "ord_enc = OrdinalEncoder()\n",
    "df2 = ord_enc.fit_transform(df[['Gender']])\n",
    "df3 = pd.DataFrame(df2, columns = ['Gender_Cat'])\n",
    "df = pd.concat([df, df3], axis = 1)"
   ]
  },
  {
   "cell_type": "code",
   "execution_count": null,
   "metadata": {},
   "outputs": [],
   "source": [
    "# ------------------------------------------------------------------\n",
    "# PREPARE MODEL DATA\n",
    "# ------------------------------------------------------------------\n",
    "\n",
    "Metrics = pd.DataFrame()\n",
    "Metrics = df[['Gender_Cat', 'Orders']]\n",
    "x = Metrics.values"
   ]
  },
  {
   "cell_type": "code",
   "execution_count": null,
   "metadata": {},
   "outputs": [],
   "source": [
    "# ------------------------------------------------------------------\n",
    "# KMEANS CLUSTERING\n",
    "# ------------------------------------------------------------------\n",
    "\n",
    "wcss = []\n",
    "\n",
    "for i in range (1, 11):\n",
    "    kmeans = KMeans(n_clusters = i, init = 'k-means++', random_state = 42)\n",
    "    kmeans.fit(x)\n",
    "    wcss.append(kmeans.inertia_)"
   ]
  },
  {
   "cell_type": "code",
   "execution_count": null,
   "metadata": {},
   "outputs": [],
   "source": [
    "# plot an elbow graph\n",
    "plt.plot(range(1,11),wcss,color='green', marker='o',\n",
    "         linestyle='dashed',linewidth=2, markersize=6)\n",
    "plt.title(\"Elbow Method\")\n",
    "plt.xlabel(\"Number Of Clusters\")\n",
    "plt.ylabel(\"Inertia Of Model\")\n",
    "plt.show()"
   ]
  },
  {
   "cell_type": "code",
   "execution_count": null,
   "metadata": {},
   "outputs": [],
   "source": [
    "df.columns"
   ]
  },
  {
   "cell_type": "code",
   "execution_count": 39,
   "metadata": {},
   "outputs": [
    {
     "data": {
      "text/html": [
       "<div>\n",
       "<style scoped>\n",
       "    .dataframe tbody tr th:only-of-type {\n",
       "        vertical-align: middle;\n",
       "    }\n",
       "\n",
       "    .dataframe tbody tr th {\n",
       "        vertical-align: top;\n",
       "    }\n",
       "\n",
       "    .dataframe thead th {\n",
       "        text-align: right;\n",
       "    }\n",
       "</style>\n",
       "<table border=\"1\" class=\"dataframe\">\n",
       "  <thead>\n",
       "    <tr style=\"text-align: right;\">\n",
       "      <th></th>\n",
       "      <th>0</th>\n",
       "      <th>1</th>\n",
       "      <th>2</th>\n",
       "    </tr>\n",
       "  </thead>\n",
       "  <tbody>\n",
       "    <tr>\n",
       "      <th>0</th>\n",
       "      <td>0.0</td>\n",
       "      <td>1.0</td>\n",
       "      <td>0.0</td>\n",
       "    </tr>\n",
       "    <tr>\n",
       "      <th>1</th>\n",
       "      <td>1.0</td>\n",
       "      <td>0.0</td>\n",
       "      <td>0.0</td>\n",
       "    </tr>\n",
       "  </tbody>\n",
       "</table>\n",
       "</div>"
      ],
      "text/plain": [
       "     0    1    2\n",
       "0  0.0  1.0  0.0\n",
       "1  1.0  0.0  0.0"
      ]
     },
     "execution_count": 39,
     "metadata": {},
     "output_type": "execute_result"
    }
   ],
   "source": [
    "one_hot = OneHotEncoder()\n",
    "df_enc = one_hot.fit_transform(df[['Gender']])\n",
    "df_enc = df_enc.toarray()\n",
    "df_enc = pd.DataFrame(df_enc)\n",
    "df_enc.head(2)"
   ]
  },
  {
   "cell_type": "code",
   "execution_count": 41,
   "metadata": {},
   "outputs": [
    {
     "data": {
      "text/html": [
       "<div>\n",
       "<style scoped>\n",
       "    .dataframe tbody tr th:only-of-type {\n",
       "        vertical-align: middle;\n",
       "    }\n",
       "\n",
       "    .dataframe tbody tr th {\n",
       "        vertical-align: top;\n",
       "    }\n",
       "\n",
       "    .dataframe thead th {\n",
       "        text-align: right;\n",
       "    }\n",
       "</style>\n",
       "<table border=\"1\" class=\"dataframe\">\n",
       "  <thead>\n",
       "    <tr style=\"text-align: right;\">\n",
       "      <th></th>\n",
       "      <th>0</th>\n",
       "    </tr>\n",
       "  </thead>\n",
       "  <tbody>\n",
       "    <tr>\n",
       "      <th>0</th>\n",
       "      <td>M</td>\n",
       "    </tr>\n",
       "    <tr>\n",
       "      <th>1</th>\n",
       "      <td>F</td>\n",
       "    </tr>\n",
       "    <tr>\n",
       "      <th>2</th>\n",
       "      <td>M</td>\n",
       "    </tr>\n",
       "    <tr>\n",
       "      <th>3</th>\n",
       "      <td>F</td>\n",
       "    </tr>\n",
       "    <tr>\n",
       "      <th>4</th>\n",
       "      <td>No Gender</td>\n",
       "    </tr>\n",
       "    <tr>\n",
       "      <th>...</th>\n",
       "      <td>...</td>\n",
       "    </tr>\n",
       "    <tr>\n",
       "      <th>29995</th>\n",
       "      <td>M</td>\n",
       "    </tr>\n",
       "    <tr>\n",
       "      <th>29996</th>\n",
       "      <td>M</td>\n",
       "    </tr>\n",
       "    <tr>\n",
       "      <th>29997</th>\n",
       "      <td>M</td>\n",
       "    </tr>\n",
       "    <tr>\n",
       "      <th>29998</th>\n",
       "      <td>M</td>\n",
       "    </tr>\n",
       "    <tr>\n",
       "      <th>29999</th>\n",
       "      <td>F</td>\n",
       "    </tr>\n",
       "  </tbody>\n",
       "</table>\n",
       "<p>30000 rows × 1 columns</p>\n",
       "</div>"
      ],
      "text/plain": [
       "               0\n",
       "0              M\n",
       "1              F\n",
       "2              M\n",
       "3              F\n",
       "4      No Gender\n",
       "...          ...\n",
       "29995          M\n",
       "29996          M\n",
       "29997          M\n",
       "29998          M\n",
       "29999          F\n",
       "\n",
       "[30000 rows x 1 columns]"
      ]
     },
     "execution_count": 41,
     "metadata": {},
     "output_type": "execute_result"
    }
   ],
   "source": [
    "# one_hot.categories_\n",
    "# df_ = one_hot.inverse_transform(df_enc)\n",
    "# df_ = df_.toarray()\n",
    "df_ = pd.DataFrame(df_)\n",
    "df_"
   ]
  }
 ],
 "metadata": {
  "kernelspec": {
   "display_name": "DSC",
   "language": "python",
   "name": "python3"
  },
  "language_info": {
   "codemirror_mode": {
    "name": "ipython",
    "version": 3
   },
   "file_extension": ".py",
   "mimetype": "text/x-python",
   "name": "python",
   "nbconvert_exporter": "python",
   "pygments_lexer": "ipython3",
   "version": "3.10.12"
  }
 },
 "nbformat": 4,
 "nbformat_minor": 2
}
