{
 "cells": [
  {
   "cell_type": "code",
   "execution_count": null,
   "metadata": {},
   "outputs": [],
   "source": [
    "# Import Libraries\n",
    "import pandas as pd\n",
    "# import numpy as np\n",
    "import seaborn as sns\n",
    "import matplotlib.pyplot as plt\n",
    "from sklearn.preprocessing import OrdinalEncoder\n",
    "from sklearn.preprocessing import OneHotEncoder\n",
    "from sklearn.cluster import KMeans\n",
    "\n",
    "# Read data\n",
    "path = '01 - Data/ecom customer_data.xlsx'"
   ]
  },
  {
   "cell_type": "code",
   "execution_count": null,
   "metadata": {},
   "outputs": [],
   "source": [
    "# Read Data into a DataFrame\n",
    "df = pd.read_excel(path)"
   ]
  },
  {
   "cell_type": "code",
   "execution_count": null,
   "metadata": {},
   "outputs": [],
   "source": [
    "# ------------------------------------------------------------------\n",
    "# HANDLE NULLS IN THE GENDER COLUMN\n",
    "# ------------------------------------------------------------------\n",
    "\n",
    "# Fill NULLS in this new copy with new values\n",
    "df['Gender'] = df['Gender'].fillna('No Gender')\n",
    "\n",
    "# Check Unique Values in the Gender Column\n",
    "# df['Gender'].unique()"
   ]
  },
  {
   "cell_type": "code",
   "execution_count": null,
   "metadata": {},
   "outputs": [],
   "source": [
    "# ------------------------------------------------------------------\n",
    "# DATA TRANSFORMATIONS AND EXPLORATIONS\n",
    "# ------------------------------------------------------------------\n",
    "\n",
    "# Make a copy of the DF\n",
    "df_t = df.copy()\n",
    "\n",
    "# Group the Data by the unique values in Gender Column\n",
    "# Then Aggregate the result by the sum of each occurance\n",
    "df_t = df_t.groupby('Gender').sum()\n",
    "\n",
    "# Transpose the DF\n",
    "df_t = df_t.T\n",
    "\n",
    "# New column as a sum of Males and Females\n",
    "df_t['Males + Females'] = df_t['M'] + df_t['F']\n",
    "\n",
    "# Rename and Rearrange columns\n",
    "cols = {'F' : 'Females', 'M' : 'Males'}\n",
    "df_t.rename(columns = cols, inplace = True)\n",
    "df_t = df_t[['Males + Females', 'Females', 'Males', 'No Gender']]\n",
    "\n",
    "# Sort Values from Highest to Lowest\n",
    "df_t = df_t.sort_values(by = 'Males + Females', ascending = False)"
   ]
  },
  {
   "cell_type": "code",
   "execution_count": null,
   "metadata": {},
   "outputs": [],
   "source": [
    "# Plot the Top 5\n",
    "df_t[2:7].plot.bar()\n",
    "plt.title('Top 5 Comapnies')\n",
    "plt.ylabel('Sum Total')\n",
    "plt.xlabel('Comapny')\n",
    "\n",
    "# Plot the Bottom 5\n",
    "df_t[-5:].plot.bar()\n",
    "plt.title('Bottom 5 Comapnies')\n",
    "plt.ylabel('Sum Total')\n",
    "plt.xlabel('Compaty')"
   ]
  },
  {
   "cell_type": "markdown",
   "metadata": {},
   "source": [
    "From the Bar chart arranged from the Highest to Lowest, The top 5 comapnies with the leading Market share are:\n",
    " J.M. Smucker\n",
    " Juniper\n",
    " Burberry\n",
    " Scabal\n",
    " H&M\n",
    "\n",
    "the bottom 5 comapanies in terms of trailing market share are:\n",
    "  Hollister\n",
    "  Kraft\n",
    "  Forever 21\n",
    "  Siemens\n",
    "  IBM\n",
    "\n",
    "Females are the leading in orders followed by men and lastly those who did not disclose their gender."
   ]
  },
  {
   "cell_type": "code",
   "execution_count": null,
   "metadata": {},
   "outputs": [],
   "source": [
    "# ------------------------------------------------------------------\n",
    "# ENCODE CATEGORICAL VALUES IN THE GENDER COLUMN -> ORDINAL ENCODER\n",
    "# ------------------------------------------------------------------\n",
    "\n",
    "df2 = df.copy()\n",
    "\n",
    "ord_enc = OrdinalEncoder()\n",
    "df2 = ord_enc.fit_transform(df[['Gender']])\n",
    "df3 = pd.DataFrame(df2, columns = ['Gender_Cat'])\n",
    "df = pd.concat([df, df3], axis = 1)"
   ]
  },
  {
   "cell_type": "code",
   "execution_count": null,
   "metadata": {},
   "outputs": [],
   "source": [
    "# ------------------------------------------------------------------\n",
    "# PREPARE MODEL DATA\n",
    "# ------------------------------------------------------------------\n",
    "\n",
    "Metrics = pd.DataFrame()\n",
    "Metrics = df[['Gender_Cat', 'Orders']]\n",
    "x = Metrics.values"
   ]
  },
  {
   "cell_type": "code",
   "execution_count": null,
   "metadata": {},
   "outputs": [],
   "source": [
    "# ------------------------------------------------------------------\n",
    "# KMEANS CLUSTERING\n",
    "# ------------------------------------------------------------------\n",
    "\n",
    "wcss = []\n",
    "\n",
    "for i in range (1, 11):\n",
    "    kmeans = KMeans(n_clusters = i, init = 'k-means++', random_state = 42)\n",
    "    kmeans.fit(x)\n",
    "    wcss.append(kmeans.inertia_)"
   ]
  },
  {
   "cell_type": "code",
   "execution_count": null,
   "metadata": {},
   "outputs": [],
   "source": [
    "# plot an elbow graph\n",
    "plt.plot(range(1,11),wcss,color='green', marker='o',\n",
    "         linestyle='dashed',linewidth=2, markersize=6)\n",
    "plt.title(\"Elbow Method\")\n",
    "plt.xlabel(\"Number Of Clusters\")\n",
    "plt.ylabel(\"Inertia Of Model\")\n",
    "plt.show()"
   ]
  },
  {
   "cell_type": "code",
   "execution_count": null,
   "metadata": {},
   "outputs": [],
   "source": [
    "# ------------------------------------------------------------------\n",
    "# ENCODE CATEGORICAL VALUES IN THE GENDER COLUMN -> ONE HOT ENCODER\n",
    "# ------------------------------------------------------------------\n",
    "\n",
    "df_enc = df.copy()\n",
    "one_hot = OneHotEncoder()\n",
    "df_enc = one_hot.fit_transform(df_enc[['Gender']])\n",
    "df_enc = df_enc.toarray()\n",
    "df_enc = pd.DataFrame(df_enc)\n",
    "\n",
    "# Check encoded categories\n",
    "# one_hot.categories_"
   ]
  },
  {
   "cell_type": "code",
   "execution_count": null,
   "metadata": {},
   "outputs": [],
   "source": [
    "# ------------------------------------------------------------------\n",
    "# PREPARE MODEL DATA\n",
    "# ------------------------------------------------------------------\n",
    "\n",
    "df_OH = pd.DataFrame()\n",
    "df_OH = df[['Orders']]\n",
    "df_OH = pd.concat([df_OH, df_enc], axis = 1)\n",
    "x2 = df_OH.values\n",
    "x2\n"
   ]
  },
  {
   "cell_type": "code",
   "execution_count": null,
   "metadata": {},
   "outputs": [],
   "source": [
    "# ------------------------------------------------------------------\n",
    "# KMEANS CLUSTERING\n",
    "# ------------------------------------------------------------------\n",
    "\n",
    "wcss = []\n",
    "\n",
    "for i in range (1, 11):\n",
    "    kmeans = KMeans(n_clusters = i, init = 'k-means++', random_state = 42)\n",
    "    kmeans.fit(x2)\n",
    "    wcss.append(kmeans.inertia_)"
   ]
  }
 ],
 "metadata": {
  "kernelspec": {
   "display_name": "DSC",
   "language": "python",
   "name": "python3"
  },
  "language_info": {
   "codemirror_mode": {
    "name": "ipython",
    "version": 3
   },
   "file_extension": ".py",
   "mimetype": "text/x-python",
   "name": "python",
   "nbconvert_exporter": "python",
   "pygments_lexer": "ipython3",
   "version": "3.10.12"
  }
 },
 "nbformat": 4,
 "nbformat_minor": 2
}
