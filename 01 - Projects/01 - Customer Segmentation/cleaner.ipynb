{
 "cells": [
  {
   "cell_type": "markdown",
   "metadata": {},
   "source": [
    "## **Part 1 :  Exploratory Data Analysis**"
   ]
  },
  {
   "cell_type": "code",
   "execution_count": 1,
   "metadata": {},
   "outputs": [],
   "source": [
    "# Import Libraries\n",
    "import pandas as pd\n",
    "import numpy as np\n",
    "import seaborn as sns\n",
    "import matplotlib.pyplot as plt\n",
    "from sklearn.preprocessing import OrdinalEncoder\n",
    "from sklearn.preprocessing import OneHotEncoder\n",
    "from sklearn.cluster import KMeans\n",
    "\n",
    "# Read data\n",
    "path = '01 - Data/ecom customer_data.xlsx'\n",
    "# Read Data into a DataFrame\n",
    "df = pd.read_excel(path)"
   ]
  },
  {
   "cell_type": "markdown",
   "metadata": {},
   "source": [
    "## ***Data Cleaning 🧹🧹***\n",
    "\n",
    "​\t✅Handle Empty Rows\n",
    "\n",
    "​\t✅Handle Duplicated Rows"
   ]
  },
  {
   "cell_type": "code",
   "execution_count": 2,
   "metadata": {},
   "outputs": [],
   "source": [
    "# ------------------------------------------------------------------\n",
    "# HANDLE NULLS IN THE GENDER COLUMN\n",
    "# ------------------------------------------------------------------\n",
    "\n",
    "# Check NULLS in the DF\n",
    "# df.isnull().sum()\n",
    "\n",
    "# Fill NULLS in this new copy with new values\n",
    "df['Gender'] = df['Gender'].fillna('No Gender')\n",
    "\n",
    "# Check Filled NULLS\n",
    "# df['Gender'].unique()\n",
    "\n",
    "# Check Duplicated Rows\n",
    "# df.duplicated().sum()"
   ]
  },
  {
   "cell_type": "markdown",
   "metadata": {},
   "source": [
    "## ***Data Exploration 🔬🔬***\n",
    "\n",
    "​\t✅Group the rows by values in Gender column\n",
    "\n",
    "​\t✅Sum the number of orders in every company\n",
    "\n",
    "​\t✅Plot Top 5 and Bottom 5 companies"
   ]
  },
  {
   "cell_type": "code",
   "execution_count": 3,
   "metadata": {},
   "outputs": [
    {
     "data": {
      "text/plain": [
       "Index(['Cust_ID', 'Gender', 'Orders', 'Jordan', 'Gatorade', 'Samsung', 'Asus',\n",
       "       'Udis', 'Mondelez International', 'Wrangler', 'Vans', 'Fila', 'Brooks',\n",
       "       'H&M', 'Dairy Queen', 'Fendi', 'Hewlett Packard', 'Pladis', 'Asics',\n",
       "       'Siemens', 'J.M. Smucker', 'Pop Chips', 'Juniper', 'Huawei', 'Compaq',\n",
       "       'IBM', 'Burberry', 'Mi', 'LG', 'Dior', 'Scabal', 'Tommy Hilfiger',\n",
       "       'Hollister', 'Forever 21', 'Colavita', 'Microsoft', 'Jiffy mix',\n",
       "       'Kraft'],\n",
       "      dtype='object')"
      ]
     },
     "execution_count": 3,
     "metadata": {},
     "output_type": "execute_result"
    }
   ],
   "source": [
    "df.columns"
   ]
  },
  {
   "cell_type": "code",
   "execution_count": 58,
   "metadata": {},
   "outputs": [],
   "source": [
    "# ------------------------------------------------------------------\n",
    "# DATA TRANSFORMATIONS AND EXPLORATIONS\n",
    "# ------------------------------------------------------------------\n",
    "\n",
    "# Make a copy of the DF\n",
    "df_t = df.copy()\n",
    "df_t.drop('Cust_ID', axis = 1, inplace = True)\n",
    "\n",
    "# Group the Data by the values in Gender Column\n",
    "# Then Aggregate the result by the sum of each occurance\n",
    "df_t = df_t.groupby('Gender').sum()\n",
    "\n",
    "# Transpose the DF\n",
    "df_t = df_t.T\n",
    "\n",
    "# Create New column as a sum of Males and Females\n",
    "df_t['Total'] = df_t['M'] + df_t['F'] + df_t['No Gender']\n",
    "\n",
    "# Rename and Rearrange columns\n",
    "cols = {'F' : 'Females', 'M' : 'Males'}\n",
    "df_t.rename(columns = cols, inplace = True)\n",
    "df_t = df_t[['Total', 'Females', 'Males', 'No Gender']]\n",
    "\n",
    "# Sort Values from Highest to Lowest\n",
    "df_t = df_t.sort_values(by = 'Total', ascending = False)\n",
    "df_t = df_t.T"
   ]
  },
  {
   "cell_type": "code",
   "execution_count": null,
   "metadata": {},
   "outputs": [],
   "source": [
    "# ------------------------------------------------------------------\n",
    "# PLOT GRAPHS\n",
    "# ------------------------------------------------------------------\n",
    "\n",
    "title1 = 'Top 5 Companies'\n",
    "title2 = 'Bottom 5 Companies'\n",
    "xlabel_ = 'Company'\n",
    "ylabel_ = 'Sum Total'\n",
    "\n",
    "plt.figure(figsize = (10, 6))\n",
    "# Plot the Top 5\n",
    "df_t[2:7].plot.bar()\n",
    "plt.title(title1)\n",
    "plt.ylabel(ylabel_)\n",
    "plt.xlabel(xlabel_)\n",
    "plt.xticks(rotation=0)\n",
    "\n",
    "# Plot the Bottom 5\n",
    "df_t[-5:].plot.bar()\n",
    "plt.title(title2)\n",
    "plt.ylabel(ylabel_)\n",
    "plt.xlabel(xlabel_)\n",
    "plt.xticks(rotation=0)"
   ]
  },
  {
   "cell_type": "markdown",
   "metadata": {},
   "source": [
    "From the Bar chart arranged from the Highest to Lowest, The top 5 comapnies with the leading Market share are:\n",
    " J.M. Smucker\n",
    " Juniper\n",
    " Burberry\n",
    " Scabal\n",
    " H&M\n",
    "\n",
    "the bottom 5 comapanies in terms of trailing market share are:\n",
    "  Hollister\n",
    "  Kraft\n",
    "  Forever 21\n",
    "  Siemens\n",
    "  IBM\n",
    "\n",
    "Females are the leading in orders followed by men and lastly those who did not disclose their gender."
   ]
  },
  {
   "cell_type": "code",
   "execution_count": null,
   "metadata": {},
   "outputs": [],
   "source": [
    "sns.barplot(data = df_t, hue = 'Gender', y = 'Orders', gap = 0.2)\n",
    "plt.figure(figsize = (15, 7))\n",
    "plt.subplot(1,2,1)\n",
    "sns.barplot(data = df_t, hue = 'Gender', y = 'Siemens', gap = 0.2)"
   ]
  },
  {
   "cell_type": "code",
   "execution_count": null,
   "metadata": {},
   "outputs": [],
   "source": [
    "# ------------------------------------------------------------------\n",
    "# ENCODE CATEGORICAL VALUES IN THE GENDER COLUMN -> ORDINAL ENCODER\n",
    "# ------------------------------------------------------------------\n",
    "\n",
    "df2 = df.copy()\n",
    "\n",
    "ord_enc = OrdinalEncoder()\n",
    "df2 = ord_enc.fit_transform(df[['Gender']])\n",
    "df3 = pd.DataFrame(df2, columns = ['Gender_Cat'])\n",
    "df3 = pd.merge(left = df3, right = df['Orders'],\n",
    "               left_index = True, right_index = True)\n",
    "\n",
    "\n",
    "\n",
    "x = df3.values"
   ]
  },
  {
   "cell_type": "code",
   "execution_count": null,
   "metadata": {},
   "outputs": [],
   "source": [
    "# ------------------------------------------------------------------\n",
    "# KMEANS CLUSTERING\n",
    "# ------------------------------------------------------------------\n",
    "\n",
    "# Extract Values from DF3\n",
    "x = df3.values\n",
    "\n",
    "wcss = []\n",
    "\n",
    "for i in range (1, 7):\n",
    "    kmeans = KMeans(n_clusters = i, init = 'k-means++', random_state = 42)\n",
    "    kmeans.fit(x)\n",
    "    wcss.append(kmeans.inertia_)"
   ]
  },
  {
   "cell_type": "code",
   "execution_count": null,
   "metadata": {},
   "outputs": [],
   "source": [
    "# plot an elbow graph\n",
    "plt.plot(range(1,7),wcss,color='green', marker='o',\n",
    "         linestyle='dashed',linewidth=2, markersize=6)\n",
    "plt.title(\"Elbow Method\")\n",
    "plt.xlabel(\"Number Of Clusters\")\n",
    "plt.ylabel(\"Inertia Of Model\")\n",
    "plt.show()"
   ]
  },
  {
   "cell_type": "code",
   "execution_count": null,
   "metadata": {},
   "outputs": [],
   "source": [
    "# ------------------------------------------------------------------\n",
    "# KMEANS WITH 4 CLUSTERS\n",
    "# ------------------------------------------------------------------\n",
    "\n",
    "best_kmeans = KMeans(n_clusters = 4, n_init = 10, random_state = 42)\n",
    "cluster = best_kmeans.fit_predict(x)\n",
    "df3['Cluster'] = cluster"
   ]
  },
  {
   "cell_type": "code",
   "execution_count": null,
   "metadata": {},
   "outputs": [],
   "source": [
    "decode = ord_enc.inverse_transform(df3[['Gender_Cat']])\n",
    "df4 = pd.DataFrame(decode, columns = ['Gender'])\n",
    "df4 = pd.merge(left = df3[['Orders', 'Cluster']], right= df4,\n",
    "          left_index = True, right_index = True)\n",
    "\n",
    "df4.head(4)"
   ]
  },
  {
   "cell_type": "code",
   "execution_count": null,
   "metadata": {},
   "outputs": [],
   "source": [
    "df4_g = df4.groupby('Cluster').count()\n",
    "df4_g.head(10)"
   ]
  },
  {
   "cell_type": "code",
   "execution_count": null,
   "metadata": {},
   "outputs": [],
   "source": [
    "bars = plt.bar(df4_g.index, df4_g['Gender'])\n",
    "plt.title = 'Clusters'\n",
    "plt.xlabel = 'Cluster'\n",
    "plt.ylabel = 'Count'\n",
    "# plt.show"
   ]
  },
  {
   "cell_type": "code",
   "execution_count": null,
   "metadata": {},
   "outputs": [],
   "source": [
    "# ------------------------------------------------------------------\n",
    "# ENCODE CATEGORICAL VALUES IN THE GENDER COLUMN -> ONE HOT ENCODER\n",
    "# ------------------------------------------------------------------\n",
    "\n",
    "df_enc = df.copy()\n",
    "one_hot = OneHotEncoder()\n",
    "df_enc = one_hot.fit_transform(df_enc[['Gender']])\n",
    "df_enc = df_enc.toarray()\n",
    "df_enc = pd.DataFrame(df_enc)\n",
    "\n",
    "# Check encoded categories\n",
    "# one_hot.categories_"
   ]
  },
  {
   "cell_type": "code",
   "execution_count": null,
   "metadata": {},
   "outputs": [],
   "source": [
    "# ------------------------------------------------------------------\n",
    "# PREPARE MODEL DATA\n",
    "# ------------------------------------------------------------------\n",
    "\n",
    "df_OH = pd.DataFrame()\n",
    "df_OH = df[['Orders']]\n",
    "df_OH = pd.concat([df_OH, df_enc], axis = 1)\n",
    "x2 = df_OH.values\n",
    "x2\n"
   ]
  },
  {
   "cell_type": "code",
   "execution_count": null,
   "metadata": {},
   "outputs": [],
   "source": [
    "# ------------------------------------------------------------------\n",
    "# KMEANS CLUSTERING 2\n",
    "# ------------------------------------------------------------------\n",
    "\n",
    "wcss2 = []\n",
    "\n",
    "for i in range (1, 11):\n",
    "    kmeans = KMeans(n_clusters = i, init = 'k-means++', random_state = 42)\n",
    "    kmeans.fit(x2)\n",
    "    wcss2.append(kmeans.inertia_)"
   ]
  },
  {
   "cell_type": "code",
   "execution_count": null,
   "metadata": {},
   "outputs": [],
   "source": [
    "# plot an elbow graph\n",
    "plt.plot(range(1,11),wcss2,color='green', marker='o',\n",
    "         linestyle='dashed',linewidth=2, markersize=6)\n",
    "plt.title(\"Elbow Method\")\n",
    "plt.xlabel(\"Number Of Clusters\")\n",
    "plt.ylabel(\"Inertia Of Model\")\n",
    "plt.show()"
   ]
  },
  {
   "cell_type": "code",
   "execution_count": null,
   "metadata": {},
   "outputs": [],
   "source": [
    "# ------------------------------------------------------------------\n",
    "# BINNING\n",
    "# ------------------------------------------------------------------\n",
    "\n",
    "df_bin = pd.DataFrame(df['Orders'])\n",
    "df_bin['Orders'].unique()\n",
    "\n",
    "# Create a column with 5 bins\n",
    "df_bin['Bins'] = pd.cut(df_bin['Orders'], 5, labels = range(1, 6))\n",
    "\n",
    "# Prepare for the KMeans Model\n",
    "x3 = df_bin['Bins']\n",
    "x3 = x3.to_numpy()\n",
    "x3 = x3.reshape(-1, 1)"
   ]
  },
  {
   "cell_type": "code",
   "execution_count": null,
   "metadata": {},
   "outputs": [],
   "source": [
    "# ------------------------------------------------------------------\n",
    "# KMEANS CLUSTERING 3\n",
    "# ------------------------------------------------------------------\n",
    "\n",
    "wcss3 = []\n",
    "\n",
    "for i in range(1, 5):\n",
    "    kmeans = KMeans(n_clusters = i, init = 'k-means++', random_state = 42)\n",
    "    kmeans.fit(x3)\n",
    "    wcss3.append(kmeans.inertia_)"
   ]
  },
  {
   "cell_type": "code",
   "execution_count": null,
   "metadata": {},
   "outputs": [],
   "source": [
    "# plot an elbow graph\n",
    "plt.plot(range(1,5),wcss3,color='green', marker='o',\n",
    "         linestyle='dashed',linewidth=2, markersize=6)\n",
    "plt.title(\"Elbow Method\")\n",
    "plt.xlabel(\"Number Of Clusters\")\n",
    "plt.ylabel(\"Inertia Of Model\")\n",
    "plt.show()"
   ]
  }
 ],
 "metadata": {
  "kernelspec": {
   "display_name": "DSC",
   "language": "python",
   "name": "python3"
  },
  "language_info": {
   "codemirror_mode": {
    "name": "ipython",
    "version": 3
   },
   "file_extension": ".py",
   "mimetype": "text/x-python",
   "name": "python",
   "nbconvert_exporter": "python",
   "pygments_lexer": "ipython3",
   "version": "3.10.12"
  }
 },
 "nbformat": 4,
 "nbformat_minor": 2
}
